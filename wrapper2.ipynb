{
 "cells": [
  {
   "cell_type": "code",
   "execution_count": 14,
   "metadata": {},
   "outputs": [],
   "source": [
    "import pandas as pd\n",
    "import numpy as np"
   ]
  },
  {
   "cell_type": "markdown",
   "metadata": {},
   "source": [
    "**read_data_small** is the function to read in the small dataset about 30 MB"
   ]
  },
  {
   "cell_type": "code",
   "execution_count": 15,
   "metadata": {},
   "outputs": [],
   "source": [
    "def read_data_small():\n",
    "    X_train_full = pd.read_csv(\"data_small/X_train_small.csv\")\n",
    "    X_test = pd.read_csv(\"data_small/X_test_small.csv\")\n",
    "    y_train_full = np.asarray(pd.read_csv(\"data_small/y_train_small.csv\", header=None)[0])\n",
    "    \n",
    "    X_train = X_train_full[0: 99275]\n",
    "    X_valid = X_train_full[99275:]\n",
    "    \n",
    "    y_train = y_train_full[0:99275]\n",
    "    y_valid = y_train_full[99275:]\n",
    "    return X_train, X_valid, X_test, y_train, y_valid"
   ]
  },
  {
   "cell_type": "markdown",
   "metadata": {},
   "source": [
    "**read_data_big** is the function to read in the big dataset about 100 MB"
   ]
  },
  {
   "cell_type": "code",
   "execution_count": 16,
   "metadata": {},
   "outputs": [],
   "source": [
    "def read_data_big():\n",
    "    X_train = pd.read_csv(\"data_big/X_train_big.csv\")\n",
    "    X_test = pd.read_csv(\"data_big/X_test_big.csv\")\n",
    "    y_train = np.asarray(pd.read_csv(\"data_big/y_train_big.csv\", header=None)[0])\n",
    "    return X_train, X_test, y_train"
   ]
  },
  {
   "cell_type": "markdown",
   "metadata": {},
   "source": [
    "**read_data** is the function to read in the whole dataset about 1.5 G"
   ]
  },
  {
   "cell_type": "code",
   "execution_count": 17,
   "metadata": {},
   "outputs": [],
   "source": [
    "def read_data():\n",
    "    X_train = pd.read_csv(\"data/X_train.csv\")\n",
    "    X_test = pd.read_csv(\"data/X_test.csv\")\n",
    "    y_train = np.asarray(pd.read_csv(\"data/y_train.csv\", header=None)[0])\n",
    "    return X_train, X_test, y_train"
   ]
  },
  {
   "cell_type": "code",
   "execution_count": 18,
   "metadata": {},
   "outputs": [],
   "source": [
    "X_train, X_valid, X_test, y_train, y_valid = read_data_small()"
   ]
  },
  {
   "cell_type": "code",
   "execution_count": 19,
   "metadata": {},
   "outputs": [
    {
     "data": {
      "text/plain": [
       "(60782, 29)"
      ]
     },
     "execution_count": 19,
     "metadata": {},
     "output_type": "execute_result"
    }
   ],
   "source": [
    "np.shape(X_test)"
   ]
  },
  {
   "cell_type": "code",
   "execution_count": 20,
   "metadata": {},
   "outputs": [
    {
     "data": {
      "text/plain": [
       "(99275, 29)"
      ]
     },
     "execution_count": 20,
     "metadata": {},
     "output_type": "execute_result"
    }
   ],
   "source": [
    "np.shape(X_train)"
   ]
  },
  {
   "cell_type": "markdown",
   "metadata": {},
   "source": [
    "# Insert Your Code Here"
   ]
  },
  {
   "cell_type": "markdown",
   "metadata": {},
   "source": [
    "**detect_spoofying** is the function for training the classifier and classify the results. \n",
    "\n",
    "Here we provide an simple example."
   ]
  },
  {
   "cell_type": "code",
   "execution_count": 89,
   "metadata": {},
   "outputs": [],
   "source": [
    "### import libraries here ###\n",
    "from sklearn.linear_model import LogisticRegression\n",
    "from sklearn.preprocessing import scale\n",
    "from sklearn.model_selection import cross_validate\n",
    "\n",
    "### code classifier here ###\n",
    "def format_data(df):\n",
    "    \n",
    "    # append numberical columns\n",
    "    rst = df.loc[:,[\"price\",\"volume\",\"bestBid\",\"bestAsk\",'bestBidVolume',\n",
    "                    'bestAskVolume','lv2Bid', 'lv2BidVolume','lv2Ask', \n",
    "                    'lv2AskVolume', 'lv3Bid', 'lv3BidVolume', 'lv3Ask',\n",
    "                    'lv3AskVolume']]\n",
    "    \n",
    "    # encode the binaries\n",
    "    rst[\"isBid\"] = df.isBid*1\n",
    "    rst[\"isBuyer\"] = df.isBuyer*1\n",
    "    rst[\"isAggressor\"] = df.isAggressor*1\n",
    "    rst[\"type\"] = (df.type == \"ORDER\")*1\n",
    "    rst[\"source\"] = (df.source==\"USER\")*1\n",
    "    \n",
    "    # parse the order id data\n",
    "    rst[\"orderId\"] = df.orderId.str.split('-').str[-1]\n",
    "    rst[\"tradeId\"] = df.tradeId.str.split('-').str[-1]\n",
    "    rst[\"bidOrderId\"] = df.bidOrderId.str.split('-').str[-1]\n",
    "    rst[\"askOrderId\"] = df.askOrderId.str.split('-').str[-1]\n",
    "    \n",
    "    # encode the multiple lable data\n",
    "    # df.operation.unique()[:-1] gets you every row except nan. So, this creates a dataframe out of each unique operation except nan\n",
    "    tmp_operation = pd.DataFrame(pd.get_dummies(df.operation), columns=df.operation.unique()[:-1])\n",
    "    rst = pd.concat([rst, tmp_operation], axis=1)\n",
    "    # gets you a one-hot encoding \n",
    "    tmp_endUserRef = pd.DataFrame(pd.get_dummies(df.endUserRef), columns=df.endUserRef.unique()[:-1])\n",
    "    rst = pd.concat([rst, tmp_endUserRef], axis=1)\n",
    "    \n",
    "    # also feel free to add more columns inferred from data\n",
    "    # smartly engineered features can be very useful to improve the classification resutls\n",
    "    rst[\"timeSinceLastTrade\"] = X_train[[\"timestamp\",\"endUserRef\"]].groupby(\"endUserRef\").diff()\n",
    "    \n",
    "    return rst\n",
    "\n",
    "\n",
    "def data_prep(X_train, X_test, y_train, X_valid, y_valid):\n",
    "    # clean up the data\n",
    "    X_clean = format_data(pd.concat([X_train, X_valid, X_test]))\n",
    "    X_clean = X_clean.fillna(-1)\n",
    "    \n",
    "    X_train_clean = X_clean.iloc[:X_train.shape[0],:]\n",
    "    X_valid_clean = X_clean.iloc[X_train.shape[0]:(X_train.shape[0]+X_valid.shape[0]),:]\n",
    "    X_test_clean = X_clean.iloc[(X_train.shape[0]+X_valid.shape[0]):,:]\n",
    "    \n",
    "    X_train_clean_scaled = scale(X_train_clean)\n",
    "    X_valid_clean_scaled = scale(X_valid_clean)\n",
    "    X_test_clean_scaled = scale(X_test_clean)\n",
    "    \n",
    "    print(\"shapes after data prep\")\n",
    "    print(X_train_clean_scaled.shape)\n",
    "    print(X_valid_clean_scaled.shape)\n",
    "    print(X_test_clean_scaled.shape)\n",
    "    \n",
    "    \n",
    "#     X_valid_clean = format_data(X_valid)\n",
    "#     X_valid_clean = X_valid_clean.fillna(-1)\n",
    "    \n",
    "    \n",
    "    return X_train_clean_scaled, X_test_clean_scaled, X_valid_clean_scaled, y_train, y_valid"
   ]
  },
  {
   "cell_type": "code",
   "execution_count": 24,
   "metadata": {},
   "outputs": [
    {
     "name": "stdout",
     "output_type": "stream",
     "text": [
      "(202604, 497)\n",
      "(99275, 497)\n",
      "(42547, 497)\n",
      "(60782, 497)\n",
      "(99275, 497)\n",
      "(42547, 497)\n",
      "(60782, 497)\n"
     ]
    }
   ],
   "source": [
    "X_train_clean_scaled, X_test_clean_scaled, x_valid_clean_scaled, y_train, y_valid = data_prep(X_train, X_test, y_train, X_valid, y_valid)\n",
    "# X_valid_clean_scaled, X_test_clean_scaled, y_valid = data_prep(X_valid, X_test, y_valid)"
   ]
  },
  {
   "cell_type": "code",
   "execution_count": 93,
   "metadata": {},
   "outputs": [],
   "source": [
    "def detect_spoofying_logistic(X_train_clean_scaled, x_valid_clean_scaled, X_test_clean_scaled, y_train, y_valid):\n",
    "    \n",
    "    # fit classifier\n",
    "    clf = LogisticRegression(random_state=0, class_weight='balanced').fit(X_train_clean_scaled, y_train)\n",
    "    y_train_prob_pred = clf.predict_proba(X_train_clean_scaled)\n",
    "    y_valid_prob_pred = clf.predict_proba(x_valid_clean_scaled)\n",
    "    y_test_prob_pred = clf.predict_proba(X_test_clean_scaled)\n",
    "    \n",
    "    return y_train_prob_pred, y_valid_prob_pred, y_test_prob_pred"
   ]
  },
  {
   "cell_type": "code",
   "execution_count": 94,
   "metadata": {},
   "outputs": [
    {
     "name": "stderr",
     "output_type": "stream",
     "text": [
      "D:\\Users\\tehtea\\Anaconda3\\lib\\site-packages\\sklearn\\linear_model\\logistic.py:432: FutureWarning: Default solver will be changed to 'lbfgs' in 0.22. Specify a solver to silence this warning.\n",
      "  FutureWarning)\n",
      "D:\\Users\\tehtea\\Anaconda3\\lib\\site-packages\\sklearn\\linear_model\\logistic.py:469: FutureWarning: Default multi_class will be changed to 'auto' in 0.22. Specify the multi_class option to silence this warning.\n",
      "  \"this warning.\", FutureWarning)\n"
     ]
    }
   ],
   "source": [
    "clf = LogisticRegression(random_state=0, class_weight='balanced').fit(X_train_clean_scaled, y_train)"
   ]
  },
  {
   "cell_type": "code",
   "execution_count": 95,
   "metadata": {},
   "outputs": [],
   "source": [
    "y_train_prob_pred = clf.predict_proba(X_train_clean_scaled)"
   ]
  },
  {
   "cell_type": "code",
   "execution_count": 96,
   "metadata": {},
   "outputs": [],
   "source": [
    "y_valid_prob_pred = clf.predict_proba(x_valid_clean_scaled)"
   ]
  },
  {
   "cell_type": "code",
   "execution_count": 97,
   "metadata": {},
   "outputs": [],
   "source": [
    "y_test_prob_pred = clf.predict_proba(X_test_clean_scaled)"
   ]
  },
  {
   "cell_type": "markdown",
   "metadata": {},
   "source": [
    "**score** is the function that we use to compare the results. An example is provided with scoring the predictions for the training dataset. True labels for the testing data set will be supplied to score the predictions for testing dataset."
   ]
  },
  {
   "cell_type": "markdown",
   "metadata": {},
   "source": [
    "Score is based on cohen's kappa measurement. https://en.wikipedia.org/wiki/Cohen%27s_kappa"
   ]
  },
  {
   "cell_type": "code",
   "execution_count": 98,
   "metadata": {},
   "outputs": [],
   "source": [
    "from sklearn.metrics import cohen_kappa_score\n",
    "\n",
    "def score(y_pred, y_true):\n",
    "    \"\"\"\n",
    "    y_pred: a numpy 4d array of probabilities of point assigned to each label\n",
    "    y_true: a numpy array of true labels\n",
    "    \"\"\"\n",
    "    y_pred_label = np.argmax(y_pred, axis=1)\n",
    "    return cohen_kappa_score(y_pred_label, y_true)"
   ]
  },
  {
   "cell_type": "markdown",
   "metadata": {},
   "source": [
    "**wrapper** is the main function to read in unzipped data and output a score for evaluation. In addition, the function returns the y probability matrix (both train and test) for grading. More details about submitting format are outlined below."
   ]
  },
  {
   "cell_type": "code",
   "execution_count": 99,
   "metadata": {},
   "outputs": [],
   "source": [
    "def wrapper(spoof_detector):\n",
    "    # read in data\n",
    "    X_train, X_valid, X_test, y_train, y_valid = read_data_small()\n",
    "    # or if you have the computational power to work with the big data set, \n",
    "    # you can comment out the read_data_samll line and uncomment the following read_data_big\n",
    "    # X_train, X_test, y_train = read_data_big()\n",
    "    \n",
    "    # process the data, train classifier and output probability matrix\n",
    "#     X_train_clean_scaled, X_test_clean_scaled, y_train = data_prep(X_train, X_test, y_train)\n",
    "    X_train_clean_scaled, X_test_clean_scaled, x_valid_clean_scaled, y_train, y_valid = data_prep(X_train, X_test, y_train, X_valid, y_valid)\n",
    "\n",
    "    y_train_prob_pred, y_valid_prob_pred, y_test_prob_pred = spoof_detector(X_train_clean_scaled, x_valid_clean_scaled, X_test_clean_scaled, y_train, y_valid)\n",
    "    \n",
    "    # score the predictions\n",
    "    print(\"scoring the results\")\n",
    "    print(y_train_prob_pred.shape)\n",
    "    print(y_train.shape)\n",
    "    score_train = score(y_train_prob_pred, y_train)\n",
    "    print(y_valid_prob_pred.shape)\n",
    "    print(y_valid.shape)\n",
    "    score_valid = score(y_valid_prob_pred, y_valid)\n",
    "    # score_test = score(y_test_prob_pred, y_test)\n",
    "    \n",
    "    # return the scores\n",
    "    return score_train, score_valid, y_train_prob_pred, y_valid_prob_pred, y_test_prob_pred"
   ]
  },
  {
   "cell_type": "markdown",
   "metadata": {},
   "source": [
    "Call function wrapper:"
   ]
  },
  {
   "cell_type": "code",
   "execution_count": 100,
   "metadata": {},
   "outputs": [
    {
     "name": "stdout",
     "output_type": "stream",
     "text": [
      "shapes after data prep\n",
      "(99275, 497)\n",
      "(42547, 497)\n",
      "(60782, 497)\n"
     ]
    },
    {
     "name": "stderr",
     "output_type": "stream",
     "text": [
      "D:\\Users\\tehtea\\Anaconda3\\lib\\site-packages\\sklearn\\linear_model\\logistic.py:432: FutureWarning: Default solver will be changed to 'lbfgs' in 0.22. Specify a solver to silence this warning.\n",
      "  FutureWarning)\n",
      "D:\\Users\\tehtea\\Anaconda3\\lib\\site-packages\\sklearn\\linear_model\\logistic.py:469: FutureWarning: Default multi_class will be changed to 'auto' in 0.22. Specify the multi_class option to silence this warning.\n",
      "  \"this warning.\", FutureWarning)\n"
     ]
    },
    {
     "name": "stdout",
     "output_type": "stream",
     "text": [
      "scoring the results\n",
      "(99275, 3)\n",
      "(99275,)\n",
      "(42547, 3)\n",
      "(42547,)\n"
     ]
    }
   ],
   "source": [
    "score_train, score_valid, y_train_prob_pred, y_valid_prob_pred, y_test_prob_pred = wrapper(detect_spoofying_logistic)"
   ]
  },
  {
   "cell_type": "markdown",
   "metadata": {},
   "source": [
    "Score for training data set is:"
   ]
  },
  {
   "cell_type": "code",
   "execution_count": 101,
   "metadata": {},
   "outputs": [
    {
     "data": {
      "text/plain": [
       "0.6530360000368849"
      ]
     },
     "execution_count": 101,
     "metadata": {},
     "output_type": "execute_result"
    }
   ],
   "source": [
    "score_train"
   ]
  },
  {
   "cell_type": "code",
   "execution_count": 102,
   "metadata": {},
   "outputs": [
    {
     "data": {
      "text/plain": [
       "0.35920167794858204"
      ]
     },
     "execution_count": 102,
     "metadata": {},
     "output_type": "execute_result"
    }
   ],
   "source": [
    "score_valid"
   ]
  },
  {
   "cell_type": "code",
   "execution_count": 103,
   "metadata": {},
   "outputs": [],
   "source": [
    "from sklearn.ensemble import RandomForestClassifier\n",
    "\n",
    "# def detect_spoofying_rf(X_train, X_test, y_train):\n",
    "def detect_spoofying_rf(X_train_clean_scaled, x_valid_clean_scaled, X_test_clean_scaled, y_train, y_valid):\n",
    "    \n",
    "    # fit classifier\n",
    "    clf = RandomForestClassifier(max_depth=100, random_state=0, class_weight='balanced').fit(X_train_clean_scaled, y_train)\n",
    "    y_train_prob_pred = clf.predict_proba(X_train_clean_scaled)\n",
    "    y_valid_prob_pred = clf.predict_proba(x_valid_clean_scaled)\n",
    "    y_test_prob_pred = clf.predict_proba(X_test_clean_scaled)\n",
    "    \n",
    "    return y_train_prob_pred, y_valid_prob_pred, y_test_prob_pred"
   ]
  },
  {
   "cell_type": "code",
   "execution_count": 104,
   "metadata": {},
   "outputs": [
    {
     "name": "stdout",
     "output_type": "stream",
     "text": [
      "shapes after data prep\n",
      "(99275, 497)\n",
      "(42547, 497)\n",
      "(60782, 497)\n"
     ]
    },
    {
     "name": "stderr",
     "output_type": "stream",
     "text": [
      "D:\\Users\\tehtea\\Anaconda3\\lib\\site-packages\\sklearn\\ensemble\\forest.py:245: FutureWarning: The default value of n_estimators will change from 10 in version 0.20 to 100 in 0.22.\n",
      "  \"10 in version 0.20 to 100 in 0.22.\", FutureWarning)\n"
     ]
    },
    {
     "name": "stdout",
     "output_type": "stream",
     "text": [
      "scoring the results\n",
      "(99275, 3)\n",
      "(99275,)\n",
      "(42547, 3)\n",
      "(42547,)\n"
     ]
    }
   ],
   "source": [
    "score_train, score_valid, y_train_prob_pred, y_valid_prob_pred, y_test_prob_pred = wrapper(detect_spoofying_rf)"
   ]
  },
  {
   "cell_type": "code",
   "execution_count": 105,
   "metadata": {},
   "outputs": [
    {
     "data": {
      "text/plain": [
       "0.9720251390734232"
      ]
     },
     "execution_count": 105,
     "metadata": {},
     "output_type": "execute_result"
    }
   ],
   "source": [
    "score_train"
   ]
  },
  {
   "cell_type": "code",
   "execution_count": 106,
   "metadata": {},
   "outputs": [
    {
     "data": {
      "text/plain": [
       "0.005325034727520661"
      ]
     },
     "execution_count": 106,
     "metadata": {},
     "output_type": "execute_result"
    }
   ],
   "source": [
    "score_valid"
   ]
  },
  {
   "cell_type": "code",
   "execution_count": 109,
   "metadata": {},
   "outputs": [],
   "source": [
    "from sklearn.ensemble import GradientBoostingClassifier\n",
    "\n",
    "# def detect_spoofying_gb(X_train, X_test, y_train):\n",
    "def detect_spoofying_gb(X_train_clean_scaled, x_valid_clean_scaled, X_test_clean_scaled, y_train, y_valid):\n",
    "    \n",
    "#     # clean up the data\n",
    "#     X_clean = format_data(pd.concat([X_train, X_test]))\n",
    "#     X_clean = X_clean.fillna(-1)\n",
    "#     X_train_clean = X_clean.iloc[:X_train.shape[0],:]\n",
    "#     X_test_clean = X_clean.iloc[X_train.shape[0]:,:]\n",
    "#     X_train_clean_scaled = scale(X_train_clean)\n",
    "#     X_test_clean_scaled = scale(X_test_clean)\n",
    "\n",
    "    original_params = {'n_estimators': 1000, 'max_leaf_nodes': 4, 'max_depth': None, 'random_state': 2,\n",
    "                   'min_samples_split': 5}\n",
    "    params = dict(original_params)\n",
    "    # fit classifier\n",
    "    clf = GradientBoostingClassifier(**params).fit(X_train_clean_scaled, y_train)\n",
    "    y_train_prob_pred = clf.predict_proba(X_train_clean_scaled)\n",
    "    y_test_prob_pred = clf.predict_proba(X_test_clean_scaled)\n",
    "    \n",
    "    return y_train_prob_pred, y_test_prob_pred"
   ]
  },
  {
   "cell_type": "code",
   "execution_count": null,
   "metadata": {},
   "outputs": [
    {
     "name": "stdout",
     "output_type": "stream",
     "text": [
      "shapes after data prep\n",
      "(99275, 497)\n",
      "(42547, 497)\n",
      "(60782, 497)\n"
     ]
    }
   ],
   "source": [
    "score_train, y_train_prob_pred, y_test_prob_pred = wrapper(detect_spoofying_gb)"
   ]
  },
  {
   "cell_type": "code",
   "execution_count": null,
   "metadata": {},
   "outputs": [],
   "source": [
    "score_train"
   ]
  },
  {
   "cell_type": "code",
   "execution_count": null,
   "metadata": {},
   "outputs": [],
   "source": [
    "y_train_prob_pred"
   ]
  },
  {
   "cell_type": "code",
   "execution_count": null,
   "metadata": {},
   "outputs": [],
   "source": [
    "y_test_prob_pred"
   ]
  },
  {
   "cell_type": "code",
   "execution_count": null,
   "metadata": {},
   "outputs": [],
   "source": []
  },
  {
   "cell_type": "markdown",
   "metadata": {},
   "source": [
    "### LSTM"
   ]
  },
  {
   "cell_type": "code",
   "execution_count": null,
   "metadata": {},
   "outputs": [],
   "source": [
    "# LSTM for sequence classification in the IMDB dataset\n",
    "import numpy\n",
    "from tensorflow.keras.datasets import imdb\n",
    "from tensorflow.keras.models import Sequential\n",
    "from tensorflow.keras.layers import Dense\n",
    "from tensorflow.keras.layers import LSTM\n",
    "from tensorflow.keras.layers import Embedding\n",
    "from tensorflow.keras.preprocessing import sequence\n",
    "# fix random seed for reproducibility\n",
    "numpy.random.seed(7)\n",
    "# load the dataset but only keep the top n words, zero the rest\n",
    "top_words = 5000\n",
    "# (X_train, y_train), (X_test, y_test) = imdb.load_data(num_words=top_words)\n",
    "\n",
    "X_train_clean_scaled, X_test_clean_scaled, y_train\n",
    "\n",
    "# truncate and pad input sequences\n",
    "max_review_length = 500\n",
    "X_train_clean_scaled_seq = sequence.pad_sequences(X_train_clean_scaled, maxlen=max_review_length)\n",
    "X_test_clean_scaled_seq = sequence.pad_sequences(X_test_clean_scaled, maxlen=max_review_length)\n",
    "\n",
    "# create the model\n",
    "embedding_vecor_length = 32\n",
    "model = Sequential()\n",
    "model.add(Embedding(top_words, embedding_vecor_length, input_length=max_review_length))\n",
    "model.add(LSTM(100))\n",
    "model.add(Dense(1, activation='softmax'))\n",
    "model.compile(loss='binary_crossentropy', optimizer='adam', metrics=['accuracy'])\n",
    "print(model.summary())\n",
    "model.fit(X_train, y_train, epochs=3, batch_size=64)\n",
    "# Final evaluation of the model\n",
    "scores = model.evaluate(X_test, y_test, verbose=0)\n",
    "print(\"Accuracy: %.2f%%\" % (scores[1]*100))"
   ]
  },
  {
   "cell_type": "markdown",
   "metadata": {},
   "source": [
    "### Submission Format\n",
    "\n",
    "The classifier function wrote should return a 4d nparray with 4 columns. The columns are corresponding to the class labels: 0, 1, 2, 3. Please see examples below."
   ]
  },
  {
   "cell_type": "code",
   "execution_count": 12,
   "metadata": {},
   "outputs": [
    {
     "data": {
      "text/plain": [
       "array([[9.86370744e-001, 1.36292563e-002, 3.67070949e-112,\n",
       "        1.04535050e-297],\n",
       "       [9.99970333e-001, 2.96674344e-005, 6.83821800e-116,\n",
       "        2.37658593e-301],\n",
       "       [9.99992988e-001, 7.01190145e-006, 7.24572578e-116,\n",
       "        3.13840206e-300],\n",
       "       ...,\n",
       "       [9.93675148e-001, 7.77386317e-006, 8.49554029e-004,\n",
       "        5.46752380e-003],\n",
       "       [9.99998107e-001, 1.02405728e-008, 1.75735061e-007,\n",
       "        1.70675826e-006],\n",
       "       [9.99999309e-001, 2.68630114e-008, 8.75407480e-008,\n",
       "        5.76837316e-007]])"
      ]
     },
     "execution_count": 12,
     "metadata": {},
     "output_type": "execute_result"
    }
   ],
   "source": [
    "y_train_prob_pred"
   ]
  },
  {
   "cell_type": "code",
   "execution_count": 13,
   "metadata": {},
   "outputs": [
    {
     "data": {
      "text/plain": [
       "array([[9.99999916e-01, 7.07184530e-09, 7.25436136e-09, 6.99499622e-08],\n",
       "       [9.99999778e-01, 7.49671754e-09, 2.93861125e-08, 1.85256170e-07],\n",
       "       [9.99999635e-01, 3.13411390e-07, 4.64843089e-08, 5.43852499e-09],\n",
       "       ...,\n",
       "       [9.99877224e-01, 2.50474031e-07, 2.31039598e-05, 9.94210939e-05],\n",
       "       [9.99920933e-01, 2.67565958e-08, 1.78714121e-05, 6.11689183e-05],\n",
       "       [9.99962674e-01, 1.17168750e-07, 1.26322837e-05, 2.45767864e-05]])"
      ]
     },
     "execution_count": 13,
     "metadata": {},
     "output_type": "execute_result"
    }
   ],
   "source": [
    "y_test_prob_pred"
   ]
  },
  {
   "cell_type": "markdown",
   "metadata": {},
   "source": [
    "### Write test results to csv files"
   ]
  },
  {
   "cell_type": "markdown",
   "metadata": {},
   "source": [
    "Please rename your file to indicate which data set you are working with. \n",
    "\n",
    "- If you are using the small dataset: *y_train_prob_pred_small.csv* and *y_test_prob_pred_small.csv*\n",
    "- If you are using the small dataset: *y_train_prob_pred_big.csv* and *y_test_prob_pred_big.csv*\n",
    "- If you are using the original dataset: *y_train_prob_pred.csv* and *y_test_prob_pred.csv*"
   ]
  },
  {
   "cell_type": "code",
   "execution_count": 14,
   "metadata": {},
   "outputs": [],
   "source": [
    "pd.DataFrame(y_train_prob_pred).to_csv(\"y_train_prob_pred.csv\")\n",
    "pd.DataFrame(y_test_prob_pred).to_csv(\"y_test_prob_pred.csv\")"
   ]
  }
 ],
 "metadata": {
  "kernelspec": {
   "display_name": "Python 3",
   "language": "python",
   "name": "python3"
  },
  "language_info": {
   "codemirror_mode": {
    "name": "ipython",
    "version": 3
   },
   "file_extension": ".py",
   "mimetype": "text/x-python",
   "name": "python",
   "nbconvert_exporter": "python",
   "pygments_lexer": "ipython3",
   "version": "3.7.4"
  }
 },
 "nbformat": 4,
 "nbformat_minor": 2
}
